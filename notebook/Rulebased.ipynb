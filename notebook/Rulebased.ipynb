{
 "cells": [
  {
   "cell_type": "markdown",
   "metadata": {},
   "source": [
    "> 基于规则的笔记。"
   ]
  },
  {
   "cell_type": "code",
   "execution_count": 1,
   "metadata": {
    "collapsed": false
   },
   "outputs": [
    {
     "name": "stdout",
     "output_type": "stream",
     "text": [
      "Populating the interactive namespace from numpy and matplotlib\n"
     ]
    }
   ],
   "source": [
    "%pylab inline\n",
    "import pandas as pd\n",
    "import datetime as dt"
   ]
  },
  {
   "cell_type": "code",
   "execution_count": 2,
   "metadata": {
    "collapsed": true
   },
   "outputs": [],
   "source": [
    "u = pd.read_csv('../data/2nd/tianchi_mobile_recommend_train_user_filtered.csv', index_col=['user_id', 'item_id'])"
   ]
  },
  {
   "cell_type": "code",
   "execution_count": 3,
   "metadata": {
    "collapsed": true
   },
   "outputs": [],
   "source": [
    "def f1(pred, ref):\n",
    "    \"\"\" Evaluate the F1 value of the prediction set and reference set.\n",
    "    :param pred: the prediction set.\n",
    "    :param ref:  the reference set.\n",
    "    :return: the F1 value.\n",
    "    \"\"\"\n",
    "    pred_len = float(len(pred))\n",
    "    ref_len = float(len(ref))\n",
    "    intersected_len = len(pred.intersection(ref))\n",
    "    precision = intersected_len / pred_len\n",
    "    recall = intersected_len / ref_len\n",
    "    print \"Hits:\", intersected_len\n",
    "    print \"Precision:\", precision\n",
    "    print \"Recall:\", recall\n",
    "    return 2 * precision * recall / float(precision + recall)"
   ]
  },
  {
   "cell_type": "markdown",
   "metadata": {},
   "source": [
    "## 加入收藏隔天购买"
   ]
  },
  {
   "cell_type": "code",
   "execution_count": 3,
   "metadata": {
    "collapsed": false
   },
   "outputs": [
    {
     "name": "stdout",
     "output_type": "stream",
     "text": [
      "Hits: 26\n",
      "Precision: 0.0491493383743\n",
      "Recall: 0.0663265306122\n"
     ]
    },
    {
     "data": {
      "text/plain": [
       "0.05646036916395222"
      ]
     },
     "execution_count": 3,
     "metadata": {},
     "output_type": "execute_result"
    }
   ],
   "source": [
    "ref = set(u[(u.date == '2014-12-17') & (u.behavior_type == 4)].index)\n",
    "pred = set(u[(u.date == '2014-12-16') & (u.hour >= 17) & ((u.behavior_type == 3) | (u.behavior_type == 3))].index)\n",
    "f1(pred, ref)"
   ]
  },
  {
   "cell_type": "code",
   "execution_count": 6,
   "metadata": {
    "collapsed": false
   },
   "outputs": [
    {
     "name": "stdout",
     "output_type": "stream",
     "text": [
      "总购买量： 432\n"
     ]
    }
   ],
   "source": [
    "print '总购买量：', len(u[(u.date == '2014-12-17') & (u.behavior_type == 4)])"
   ]
  },
  {
   "cell_type": "markdown",
   "metadata": {},
   "source": [
    "## 转化率"
   ]
  },
  {
   "cell_type": "code",
   "execution_count": 65,
   "metadata": {
    "collapsed": false
   },
   "outputs": [],
   "source": [
    "def transrate(df, date, behavior1, behavior2, days=1):\n",
    "    prevdate = (dt.datetime.strptime(date, '%Y-%m-%d') - dt.timedelta(days)).strftime('%Y-%m-%d')\n",
    "    items_users1 = df[(df.date == prevdate) & (df.behavior_type == behavior1)].groupby(['item_id', 'user_id']).size()\n",
    "    items_users2 = df[(df.date == date) & (df.behavior_type == behavior2)].groupby(['item_id', 'user_id']).size()\n",
    "    set1 = set(items_users1.index)\n",
    "    set2 = set(items_users2.index)\n",
    "    interset = set1.intersection(set2)\n",
    "    items1 = items_users1[items_users1.index.isin(interset)].groupby(level=0).sum()\n",
    "    items2 = items_users1.groupby(level=0).sum()\n",
    "    return items1, items2"
   ]
  },
  {
   "cell_type": "code",
   "execution_count": 76,
   "metadata": {
    "collapsed": false
   },
   "outputs": [],
   "source": [
    "def inspect_transrate_3days(behavior1=3, behavior2=4):\n",
    "    tmp1 = []\n",
    "    tmp2 = []\n",
    "    for date in ['2014-12-15', '2014-12-16', '2014-12-17']:\n",
    "        t = transrate(u.reset_index(), '2014-12-17', behavior1, behavior2)\n",
    "        tmp1.append(t[0])\n",
    "        tmp2.append(t[1])\n",
    "    sum1 = sum(tmp1)\n",
    "    sum2 = sum(tmp2)\n",
    "    return pd.DataFrame({'prev': sum1, 'next': sum2, 'transrate': sum1 / sum2})"
   ]
  },
  {
   "cell_type": "code",
   "execution_count": 77,
   "metadata": {
    "collapsed": false
   },
   "outputs": [],
   "source": [
    "tdf = inspect_transrate_3days(3, 4)"
   ]
  },
  {
   "cell_type": "code",
   "execution_count": 4,
   "metadata": {
    "collapsed": false
   },
   "outputs": [],
   "source": [
    "u.reset_index(inplace=True)"
   ]
  },
  {
   "cell_type": "code",
   "execution_count": 5,
   "metadata": {
    "collapsed": false
   },
   "outputs": [],
   "source": [
    "s = u[u.behavior_type==4].groupby('item_id').size() / u[u.behavior_type==3].groupby('item_id').size()"
   ]
  },
  {
   "cell_type": "code",
   "execution_count": 6,
   "metadata": {
    "collapsed": false
   },
   "outputs": [
    {
     "data": {
      "text/plain": [
       "840"
      ]
     },
     "execution_count": 6,
     "metadata": {},
     "output_type": "execute_result"
    }
   ],
   "source": [
    "len(s[s<0.5])"
   ]
  },
  {
   "cell_type": "code",
   "execution_count": 7,
   "metadata": {
    "collapsed": false
   },
   "outputs": [
    {
     "data": {
      "text/plain": [
       "4909"
      ]
     },
     "execution_count": 7,
     "metadata": {},
     "output_type": "execute_result"
    }
   ],
   "source": [
    "len(s[s>0.5])"
   ]
  },
  {
   "cell_type": "code",
   "execution_count": 8,
   "metadata": {
    "collapsed": false
   },
   "outputs": [
    {
     "data": {
      "text/plain": [
       "698"
      ]
     },
     "execution_count": 8,
     "metadata": {},
     "output_type": "execute_result"
    }
   ],
   "source": [
    "len(s[s>1])"
   ]
  },
  {
   "cell_type": "code",
   "execution_count": 9,
   "metadata": {
    "collapsed": false
   },
   "outputs": [
    {
     "data": {
      "text/plain": [
       "31916"
      ]
     },
     "execution_count": 9,
     "metadata": {},
     "output_type": "execute_result"
    }
   ],
   "source": [
    "len(s)"
   ]
  },
  {
   "cell_type": "code",
   "execution_count": 28,
   "metadata": {
    "collapsed": false
   },
   "outputs": [
    {
     "data": {
      "text/plain": [
       "<matplotlib.axes._subplots.AxesSubplot at 0x10e79ffd0>"
      ]
     },
     "execution_count": 28,
     "metadata": {},
     "output_type": "execute_result"
    },
    {
     "data": {
      "image/png": "[encoded data removed]",
      "text/plain": [
       "<matplotlib.figure.Figure at 0x10de7a710>"
      ]
     },
     "metadata": {},
     "output_type": "display_data"
    }
   ],
   "source": [
    "s.hist(bins=50, figsize=(15, 5))"
   ]
  },
  {
   "cell_type": "code",
   "execution_count": 24,
   "metadata": {
    "collapsed": false
   },
   "outputs": [
    {
     "data": {
      "text/plain": [
       "item_id\n",
       "157342738    10\n",
       "dtype: float64"
      ]
     },
     "execution_count": 24,
     "metadata": {},
     "output_type": "execute_result"
    }
   ],
   "source": [
    "s[s>9]"
   ]
  },
  {
   "cell_type": "code",
   "execution_count": 4,
   "metadata": {
    "collapsed": true
   },
   "outputs": [],
   "source": [
    "u.reset_index(inplace=True)"
   ]
  },
  {
   "cell_type": "code",
   "execution_count": 5,
   "metadata": {
    "collapsed": false
   },
   "outputs": [
    {
     "data": {
      "text/html": [
       "<div style=\"max-height:1000px;max-width:1500px;overflow:auto;\">\n",
       "<table border=\"1\" class=\"dataframe\">\n",
       "  <thead>\n",
       "    <tr style=\"text-align: right;\">\n",
       "      <th></th>\n",
       "      <th>user_id</th>\n",
       "      <th>item_id</th>\n",
       "      <th>behavior_type</th>\n",
       "      <th>user_geohash</th>\n",
       "      <th>item_category</th>\n",
       "      <th>hour</th>\n",
       "      <th>date</th>\n",
       "    </tr>\n",
       "  </thead>\n",
       "  <tbody>\n",
       "    <tr>\n",
       "      <th>175716</th>\n",
       "      <td>41745786</td>\n",
       "      <td>198121978</td>\n",
       "      <td>1</td>\n",
       "      <td>95f6sm9</td>\n",
       "      <td>4245</td>\n",
       "      <td>9</td>\n",
       "      <td>2014-11-27</td>\n",
       "    </tr>\n",
       "    <tr>\n",
       "      <th>1172421</th>\n",
       "      <td>41745786</td>\n",
       "      <td>198121978</td>\n",
       "      <td>1</td>\n",
       "      <td>95f6sia</td>\n",
       "      <td>4245</td>\n",
       "      <td>9</td>\n",
       "      <td>2014-11-27</td>\n",
       "    </tr>\n",
       "    <tr>\n",
       "      <th>1009426</th>\n",
       "      <td>92848895</td>\n",
       "      <td>198121978</td>\n",
       "      <td>1</td>\n",
       "      <td>NaN</td>\n",
       "      <td>4245</td>\n",
       "      <td>18</td>\n",
       "      <td>2014-11-29</td>\n",
       "    </tr>\n",
       "    <tr>\n",
       "      <th>1281006</th>\n",
       "      <td>92848895</td>\n",
       "      <td>198121978</td>\n",
       "      <td>1</td>\n",
       "      <td>NaN</td>\n",
       "      <td>4245</td>\n",
       "      <td>18</td>\n",
       "      <td>2014-11-29</td>\n",
       "    </tr>\n",
       "    <tr>\n",
       "      <th>31223</th>\n",
       "      <td>72515822</td>\n",
       "      <td>198121978</td>\n",
       "      <td>1</td>\n",
       "      <td>95cgk5h</td>\n",
       "      <td>4245</td>\n",
       "      <td>19</td>\n",
       "      <td>2014-12-12</td>\n",
       "    </tr>\n",
       "    <tr>\n",
       "      <th>352612</th>\n",
       "      <td>5626464</td>\n",
       "      <td>198121978</td>\n",
       "      <td>1</td>\n",
       "      <td>95llqwq</td>\n",
       "      <td>4245</td>\n",
       "      <td>19</td>\n",
       "      <td>2014-12-12</td>\n",
       "    </tr>\n",
       "    <tr>\n",
       "      <th>470461</th>\n",
       "      <td>72515822</td>\n",
       "      <td>198121978</td>\n",
       "      <td>1</td>\n",
       "      <td>95cgk4n</td>\n",
       "      <td>4245</td>\n",
       "      <td>19</td>\n",
       "      <td>2014-12-12</td>\n",
       "    </tr>\n",
       "    <tr>\n",
       "      <th>1347107</th>\n",
       "      <td>5626464</td>\n",
       "      <td>198121978</td>\n",
       "      <td>1</td>\n",
       "      <td>95llp3b</td>\n",
       "      <td>4245</td>\n",
       "      <td>19</td>\n",
       "      <td>2014-12-12</td>\n",
       "    </tr>\n",
       "    <tr>\n",
       "      <th>1391630</th>\n",
       "      <td>72515822</td>\n",
       "      <td>198121978</td>\n",
       "      <td>1</td>\n",
       "      <td>95cgk6p</td>\n",
       "      <td>4245</td>\n",
       "      <td>19</td>\n",
       "      <td>2014-12-12</td>\n",
       "    </tr>\n",
       "    <tr>\n",
       "      <th>447441</th>\n",
       "      <td>41745786</td>\n",
       "      <td>198121978</td>\n",
       "      <td>1</td>\n",
       "      <td>NaN</td>\n",
       "      <td>4245</td>\n",
       "      <td>1</td>\n",
       "      <td>2014-12-16</td>\n",
       "    </tr>\n",
       "    <tr>\n",
       "      <th>633253</th>\n",
       "      <td>41745786</td>\n",
       "      <td>198121978</td>\n",
       "      <td>1</td>\n",
       "      <td>NaN</td>\n",
       "      <td>4245</td>\n",
       "      <td>1</td>\n",
       "      <td>2014-12-16</td>\n",
       "    </tr>\n",
       "    <tr>\n",
       "      <th>633255</th>\n",
       "      <td>41745786</td>\n",
       "      <td>198121978</td>\n",
       "      <td>1</td>\n",
       "      <td>NaN</td>\n",
       "      <td>4245</td>\n",
       "      <td>1</td>\n",
       "      <td>2014-12-16</td>\n",
       "    </tr>\n",
       "    <tr>\n",
       "      <th>207150</th>\n",
       "      <td>13327410</td>\n",
       "      <td>198121978</td>\n",
       "      <td>1</td>\n",
       "      <td>NaN</td>\n",
       "      <td>4245</td>\n",
       "      <td>20</td>\n",
       "      <td>2014-12-16</td>\n",
       "    </tr>\n",
       "    <tr>\n",
       "      <th>739621</th>\n",
       "      <td>13327410</td>\n",
       "      <td>198121978</td>\n",
       "      <td>1</td>\n",
       "      <td>NaN</td>\n",
       "      <td>4245</td>\n",
       "      <td>20</td>\n",
       "      <td>2014-12-16</td>\n",
       "    </tr>\n",
       "  </tbody>\n",
       "</table>\n",
       "</div>"
      ],
      "text/plain": [
       "          user_id    item_id  behavior_type user_geohash  item_category  hour  \\\n",
       "175716   41745786  198121978              1      95f6sm9           4245     9   \n",
       "1172421  41745786  198121978              1      95f6sia           4245     9   \n",
       "1009426  92848895  198121978              1          NaN           4245    18   \n",
       "1281006  92848895  198121978              1          NaN           4245    18   \n",
       "31223    72515822  198121978              1      95cgk5h           4245    19   \n",
       "352612    5626464  198121978              1      95llqwq           4245    19   \n",
       "470461   72515822  198121978              1      95cgk4n           4245    19   \n",
       "1347107   5626464  198121978              1      95llp3b           4245    19   \n",
       "1391630  72515822  198121978              1      95cgk6p           4245    19   \n",
       "447441   41745786  198121978              1          NaN           4245     1   \n",
       "633253   41745786  198121978              1          NaN           4245     1   \n",
       "633255   41745786  198121978              1          NaN           4245     1   \n",
       "207150   13327410  198121978              1          NaN           4245    20   \n",
       "739621   13327410  198121978              1          NaN           4245    20   \n",
       "\n",
       "               date  \n",
       "175716   2014-11-27  \n",
       "1172421  2014-11-27  \n",
       "1009426  2014-11-29  \n",
       "1281006  2014-11-29  \n",
       "31223    2014-12-12  \n",
       "352612   2014-12-12  \n",
       "470461   2014-12-12  \n",
       "1347107  2014-12-12  \n",
       "1391630  2014-12-12  \n",
       "447441   2014-12-16  \n",
       "633253   2014-12-16  \n",
       "633255   2014-12-16  \n",
       "207150   2014-12-16  \n",
       "739621   2014-12-16  "
      ]
     },
     "execution_count": 5,
     "metadata": {},
     "output_type": "execute_result"
    }
   ],
   "source": [
    "u[u.item_id==198121978].sort(['date', 'hour'])"
   ]
  }
 ],
 "metadata": {
  "kernelspec": {
   "display_name": "Python 2",
   "language": "python",
   "name": "python2"
  },
  "language_info": {
   "codemirror_mode": {
    "name": "ipython",
    "version": 2
   },
   "file_extension": ".py",
   "mimetype": "text/x-python",
   "name": "python",
   "nbconvert_exporter": "python",
   "pygments_lexer": "ipython2",
   "version": "2.7.9"
  }
 },
 "nbformat": 4,
 "nbformat_minor": 0
}
